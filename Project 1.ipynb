{
 "cells": [
  {
   "cell_type": "code",
   "execution_count": null,
   "id": "dc25d20d",
   "metadata": {},
   "outputs": [],
   "source": [
    "'''\n",
    "Assignment: \n",
    "\n",
    "Upload Lecture_2.ipynb into jupyter notebook \n",
    "Upload sakila.db into data folder in jupyter notebook \n",
    "Run all cells and try to understand the process of loading and analysing database into pandas dataframe. \n",
    "Perform the following tasks into a new notebook name Exercise_pandas_db \n",
    "What's the mean of film_rental_duration? \n",
    "What's the most common rental duration? \n",
    "Show a bar plot with all the durations. \n",
    "\n",
    "What is the most common rental rate? \n",
    "Show a pie plot with all possible rental rates. \n",
    "Show a bar plot with all possible rental rates. \n",
    "Which plot you think fits the best in this case? Why? \n",
    "How is the replacement cost distributed? \n",
    "Show a box plot of the replacement costs. \n",
    "Show a density plot of the replacement costs. \n",
    "Add a red line on the mean. \n",
    "Add a green line on the median median \n",
    "How many films of each rating do we have? \n",
    "Show the raw count of each film rating. \n",
    "Show a bar plot with all possible film ratings. \n",
    "Does the film replacement cost vary depending on film rating? \n",
    "In the United States, film classification is a voluntary process with the ratings issued by the Motion Picture Association of America (MPAA) via the Classification and Rating Administration (CARA). \n",
    "\n",
    "G (General Audiences): All Ages are Admitted. \n",
    "PG (Parental Guidance Suggested): Some Material May Not Be Suitable for Children. \n",
    "PG-13 (Parents Strongly Cautioned): Some Material May Be Inappropriate for Children Under 13. \n",
    "R (Restricted): Under 17 Requires Accompanying Parent or Adult Guardian. \n",
    "NC-17 (Adults Only): No One 17 and Under Admitted. \n",
    "Show a grouped box plot per film rating with the film replacement costs. \n",
    "\n",
    " \n",
    "\n",
    "Add and calculate a new rental_days column \n",
    "This numeric column should have the count of days between rental_date and return_date. \n",
    "\n",
    " \n",
    "\n",
    "Analyze the distribution of rental_days \n",
    "Calculate the mean of rental_days. \n",
    "Show a density (KDE) of rental_days. \n",
    " \n",
    "\n",
    "Add and calculate a new film_daily_rental_rate column \n",
    "This value should be the division of film_rental_rate by film_rental_duration. \n",
    "\n",
    " \n",
    "\n",
    "Analyze the distribution of film_daily_rental_rate \n",
    "Calculate the mean of film_daily_rental_rate. \n",
    "Show a density (KDE) of film_daily_rental_rate. \n",
    " \n",
    "\n",
    "List 10 films with the lowest daily rental rate \n",
    " \n",
    "\n",
    "List 10 films with the highest daily rental rate \n",
    " \n",
    "\n",
    "How many rentals were made in Lethbridge city? \n",
    " \n",
    "\n",
    "How many rentals of each film rating were made in Lethbridge city? \n",
    "Show a bar plot with each film rating count. \n",
    "\n",
    " \n",
    "\n",
    "How many rentals were made in Woodridge city with rental duration higher than 5 days? \n",
    " \n",
    "\n",
    "How many rentals were made at the store with id 2 or with replacement cost lower than 10.99 USD? \n",
    "\n",
    "'''\n"
   ]
  },
  {
   "cell_type": "code",
   "execution_count": null,
   "id": "5b416a4b",
   "metadata": {},
   "outputs": [],
   "source": [
    "\n",
    "import numpy as np\n",
    "import pandas as pd\n",
    "import matplotlib.pyplot as plt\n",
    "import sqlite3\n",
    "import seaborn as sns\n",
    "%matplotlib inline\n",
    "conn = sqlite3.connect('data/sakila.db')\n",
    "​\n",
    "df = pd.read_sql('''\n",
    "    SELECT\n",
    "        rental.rental_id, rental.rental_date, rental.return_date,\n",
    "        customer.last_name AS customer_lastname,\n",
    "        store.store_id,\n",
    "        city.city AS rental_store_city,\n",
    "        film.title AS film_title, film.rental_duration AS film_rental_duration,\n",
    "        film.rental_rate AS film_rental_rate, film.replacement_cost AS film_replacement_cost,\n",
    "        film.rating AS film_rating\n",
    "    FROM rental\n",
    "    INNER JOIN customer ON rental.customer_id == customer.customer_id\n",
    "    INNER JOIN inventory ON rental.inventory_id == inventory.inventory_id\n",
    "    INNER JOIN store ON inventory.store_id == store.store_id\n",
    "    INNER JOIN address ON store.address_id == address.address_id\n",
    "    INNER JOIN city ON address.city_id == city.city_id\n",
    "    INNER JOIN film ON inventory.film_id == film.film_id\n",
    "    ;\n",
    "''', conn, index_col='rental_id', parse_dates=['rental_date', 'return_date'])"
   ]
  },
  {
   "cell_type": "code",
   "execution_count": null,
   "id": "33ec0019",
   "metadata": {},
   "outputs": [],
   "source": [
    "df.shape\n",
    "df.head()"
   ]
  },
  {
   "cell_type": "code",
   "execution_count": null,
   "id": "de7a66fb",
   "metadata": {},
   "outputs": [],
   "source": [
    "#What's the mean of film_rental_duration?\n",
    "df['film_rental_duration'].mean()"
   ]
  },
  {
   "cell_type": "code",
   "execution_count": null,
   "id": "d96855fb",
   "metadata": {},
   "outputs": [],
   "source": [
    "#What's the most common rental duration?\n",
    "df['film_rental_duration'].value_counts().head()"
   ]
  },
  {
   "cell_type": "code",
   "execution_count": null,
   "id": "0a4050cb",
   "metadata": {},
   "outputs": [],
   "source": [
    "df['film_rental_duration'].value_counts().plot(kind = 'bar')"
   ]
  },
  {
   "cell_type": "code",
   "execution_count": null,
   "id": "6bf6bdca",
   "metadata": {},
   "outputs": [],
   "source": [
    "#Show a bar plot with all the durations\n",
    "df['film_rental_duration'].value_counts().plot(kind = 'bar')"
   ]
  },
  {
   "cell_type": "code",
   "execution_count": null,
   "id": "4b65b1bf",
   "metadata": {},
   "outputs": [],
   "source": [
    "#What is the most common rental rate? \n",
    "df['film_rental_rate'].value_counts().head(1)"
   ]
  },
  {
   "cell_type": "code",
   "execution_count": null,
   "id": "3171db9f",
   "metadata": {},
   "outputs": [],
   "source": [
    "#Show a pie plot with all possible rental rates.\n",
    "df['film_rental_rate'].value_counts().plot(kind = 'pie')\n"
   ]
  },
  {
   "cell_type": "code",
   "execution_count": null,
   "id": "3f1da19a",
   "metadata": {},
   "outputs": [],
   "source": [
    "#Show a bar plot with all possible rental rates.\n",
    "#bar\n",
    "#Which plot you think fits the best in this case? Why? \n",
    "df['film_rental_rate'].value_counts().plot(kind = 'bar')\n"
   ]
  },
  {
   "cell_type": "code",
   "execution_count": null,
   "id": "952b465f",
   "metadata": {},
   "outputs": [],
   "source": [
    "#How is the replacement cost distributed? \n",
    "df['film_replacement_cost'].plot(kind = 'density')"
   ]
  },
  {
   "cell_type": "code",
   "execution_count": null,
   "id": "631903e1",
   "metadata": {},
   "outputs": [],
   "source": [
    "\n",
    "#Show a box plot of the replacement costs. \n",
    "\n",
    "df['film_replacement_cost'].plot(kind = 'box')\n",
    "\n",
    "\n",
    "\n"
   ]
  },
  {
   "cell_type": "code",
   "execution_count": null,
   "id": "35a1944b",
   "metadata": {},
   "outputs": [],
   "source": [
    "#Show a density plot of the replacement costs. \n",
    "#Add a red line on the mean. \n",
    "#Add a green line on the median median \n",
    "mean_val = df['film_replacement_cost'].mean()\n",
    "median_val = df['film_replacement_cost'].median()\n",
    "x = df['film_replacement_cost'].plot(kind = 'density')\n",
    "x.axvline(mean_val, linewidth=2 , color ='r')\n",
    "x.axvline(median_val , linewidth=2 , color ='g')"
   ]
  },
  {
   "cell_type": "code",
   "execution_count": null,
   "id": "da4e4d28",
   "metadata": {},
   "outputs": [],
   "source": [
    "#How many films of each rating do we have? \n",
    "x = df['film_rating'].value_counts()\n",
    "#Show the raw count of each film rating. \n"
   ]
  },
  {
   "cell_type": "code",
   "execution_count": null,
   "id": "8a454828",
   "metadata": {},
   "outputs": [],
   "source": [
    "#Show a bar plot with all possible film ratings. \n",
    " \n",
    "df['film_rating'].value_counts().plot(kind = 'bar')"
   ]
  },
  {
   "cell_type": "code",
   "execution_count": null,
   "id": "c3782dc6",
   "metadata": {},
   "outputs": [],
   "source": [
    "#In the United States, film classification is a voluntary process with the ratings issued by the Motion Picture Association of America (MPAA) via the Classification and Rating Administration (CARA). \n",
    "\n",
    "#G (General Audiences): All Ages are Admitted. \n",
    "#PG (Parental Guidance Suggested): Some Material May Not Be Suitable for Children. \n",
    "#PG-13 (Parents Strongly Cautioned): Some Material May Be Inappropriate for Children Under 13. \n",
    "#R (Restricted): Under 17 Requires Accompanying Parent or Adult Guardian. \n",
    "#NC-17 (Adults Only): No One 17 and Under Admitted. \n",
    "#Show a grouped box plot per film rating with the film replacement costs. \n",
    "sns.boxplot(x = df['film_rating'],\n",
    "            y = df['film_replacement_cost'])"
   ]
  },
  {
   "cell_type": "code",
   "execution_count": null,
   "id": "22a9195b",
   "metadata": {},
   "outputs": [],
   "source": [
    "#Add and calculate a new rental_days column \n",
    "#This numeric column should have the count of days between rental_date and return_date.\n",
    "#df.insert(loc=1, column='rental_days', value= (df['return_date']- df['rental_date']).dt.days, allow_duplicates=True)\n",
    "#df.pop('film_daily_rental_rates')\n",
    "#df['rental_days']"
   ]
  },
  {
   "cell_type": "code",
   "execution_count": null,
   "id": "d5426a6f",
   "metadata": {},
   "outputs": [],
   "source": [
    "#Analyze the distribution of film_daily_rental_rate \n",
    "#df.insert(loc=1, column='film_daily_rental_rates', value= (df['film_rental_rate'] / df['film_rental_duration']), allow_duplicates=True)\n",
    "#df['film_daily_rental_rates']\n",
    "mean = df['film_daily_rental_rates'].mean()\n",
    "x = df['film_daily_rental_rates'].plot(kind = 'density')\n",
    "x.axvline(mean , linewidth=2 , color ='g')"
   ]
  },
  {
   "cell_type": "code",
   "execution_count": null,
   "id": "fd0b306e",
   "metadata": {},
   "outputs": [],
   "source": [
    "\n",
    "#Calculate the mean of film_daily_rental_rate. \n",
    "df['film_daily_rental_rates'].mean() "
   ]
  },
  {
   "cell_type": "code",
   "execution_count": null,
   "id": "456ded48",
   "metadata": {},
   "outputs": [],
   "source": [
    "#Show a density (KDE) of film_daily_rental_rate.\n",
    "df['film_daily_rental_rates'].plot(kind='density')"
   ]
  },
  {
   "cell_type": "code",
   "execution_count": null,
   "id": "aa909e80",
   "metadata": {},
   "outputs": [],
   "source": [
    "#List 10 films with the lowest daily rental rate \n",
    "\n",
    "df.loc[df['film_daily_rental_rates'] == df['film_daily_rental_rates'].min()].head(10)\n",
    "#new_df=df['film_daily_rental_rates'].nsmallest(n=10)\n",
    "#print(new_df)"
   ]
  },
  {
   "cell_type": "code",
   "execution_count": null,
   "id": "c592071f",
   "metadata": {},
   "outputs": [],
   "source": [
    "#list 10 films with the highest daily rental rate \n",
    "#df['film_daily_rental_rates'].nlargest(n=10)\n",
    "df.loc[df['film_daily_rental_rates'] == df['film_daily_rental_rates'].max()].head(10)"
   ]
  },
  {
   "cell_type": "code",
   "execution_count": null,
   "id": "c5bd04e3",
   "metadata": {},
   "outputs": [],
   "source": [
    "#How many rentals were made in Lethbridge city? \n",
    "condition = (df['rental_store_city'] == 'Lethbridge')\n",
    "result = df.loc[condition, 'rental_store_city'].value_counts()\n",
    "print(result)\n",
    "#df['rental_store_city'].value_counts()"
   ]
  },
  {
   "cell_type": "code",
   "execution_count": null,
   "id": "839314b3",
   "metadata": {},
   "outputs": [],
   "source": [
    "#How many rentals of each film rating were made in Lethbridge city? \n",
    "condition = (df['rental_store_city'] == 'Lethbridge')\n",
    "result = df.loc[condition, 'film_rating'].value_counts()\n",
    "print(result)\n",
    "result.plot(kind = 'bar')"
   ]
  },
  {
   "cell_type": "code",
   "execution_count": null,
   "id": "0be8b81a",
   "metadata": {},
   "outputs": [],
   "source": [
    "#How many rentals were made in Woodridge city with rental duration higher than 5 days? \n",
    "condition = ((df['rental_store_city'] == 'Woodridge') & (df['film_rental_duration'] > 5))\n",
    "result = df.loc[condition].shape[0]\n",
    "print(result)\n"
   ]
  },
  {
   "cell_type": "code",
   "execution_count": null,
   "id": "26b963f0",
   "metadata": {},
   "outputs": [],
   "source": [
    "#How many rentals were made at the store with id 2 or with replacement cost lower than 10.99 USD? \n",
    "condition = ((df['store_id'] == 2) | (df['film_replacement_cost'] < 10.99))\n",
    "result = df.loc[condition].shape[0]\n",
    "print(result)"
   ]
  }
 ],
 "metadata": {
  "kernelspec": {
   "display_name": "Python 3 (ipykernel)",
   "language": "python",
   "name": "python3"
  },
  "language_info": {
   "codemirror_mode": {
    "name": "ipython",
    "version": 3
   },
   "file_extension": ".py",
   "mimetype": "text/x-python",
   "name": "python",
   "nbconvert_exporter": "python",
   "pygments_lexer": "ipython3",
   "version": "3.9.11"
  }
 },
 "nbformat": 4,
 "nbformat_minor": 5
}
