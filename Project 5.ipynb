{
 "cells": [
  {
   "cell_type": "code",
   "execution_count": null,
   "id": "088130d1",
   "metadata": {},
   "outputs": [],
   "source": [
    "m = pd.read_excel (r'online_retail_II.xlsx')\n",
    "print (m)"
   ]
  },
  {
   "cell_type": "code",
   "execution_count": null,
   "id": "766c3f2b",
   "metadata": {},
   "outputs": [],
   "source": [
    "m.head()"
   ]
  },
  {
   "cell_type": "code",
   "execution_count": null,
   "id": "0b3ad9c5",
   "metadata": {},
   "outputs": [],
   "source": [
    "#Customer Retention Rate, Monthly Active customers and New Customer Acquisition."
   ]
  },
  {
   "cell_type": "code",
   "execution_count": null,
   "id": "468450d9",
   "metadata": {},
   "outputs": [],
   "source": [
    "#The number of existing customers at the start of the time period (S)\n",
    "#The number of total customers at the end of the time period (E)\n",
    "#The number of new customers added within the time period (N)\n",
    "#Calculate customer retention rate with this formula: [(E-N)/S] x 100 = CRR\n",
    "\n"
   ]
  },
  {
   "cell_type": "code",
   "execution_count": null,
   "id": "8898ee8e",
   "metadata": {},
   "outputs": [],
   "source": [
    "sales = m['Quantity'] * m['Price']\n",
    "#m.insert(loc=1, column='sales' , value = sales)\n",
    "\n",
    "m['InvoiceDate']=m['InvoiceDate'].astype(str)\n",
    "z = m['InvoiceDate'].str.split('-', expand=True)\n",
    "months = z[1]\n",
    "#m.insert(loc=1, column='months' , value = months)\n",
    "m.head()\n",
    "#m.groupby('time').Category.value_counts()"
   ]
  },
  {
   "cell_type": "code",
   "execution_count": null,
   "id": "c287dbeb",
   "metadata": {},
   "outputs": [],
   "source": [
    "m.isnull().sum()\n",
    "#m.dropna(inplace=True)"
   ]
  },
  {
   "cell_type": "code",
   "execution_count": null,
   "id": "68fc5ca5",
   "metadata": {},
   "outputs": [],
   "source": [
    "#Monthly Active customers\n",
    "f = m.groupby('date')['Customer ID'].nunique()\n",
    "print(f)\n",
    "#print(f.index)\n",
    "dates = f.index\n",
    "#f.plot(kind = 'bar')\n",
    "v= [f[0]]\n",
    "for i in  range(len(f)):\n",
    "    if i + 1 < len(f):\n",
    "        #print(f[i])\n",
    "        #print(f[i+1])\n",
    "        diff = f[i] - f[i+1]\n",
    "        if diff < 0:\n",
    "            diff = -diff\n",
    "        v.append(diff)\n",
    "print(v)\n",
    "#new_series = pd.Series(v, index = dates)\n",
    "       \n",
    "#f.insert(loc=1, column='New Customer Acquisition' , value = v)\n",
    "#f.head()"
   ]
  },
  {
   "cell_type": "code",
   "execution_count": null,
   "id": "1e0990f8",
   "metadata": {},
   "outputs": [],
   "source": [
    "columns = ['Customer ID', 'date']\n",
    "g = pd.DataFrame(m, columns=columns)\n",
    "#print(g)\n",
    "y = g.groupby(['date'])['Customer ID'].unique()\n",
    "print(y)\n",
    "#active = []\n",
    "#for i in y:\n",
    "    #active.append(len(i))\n",
    "#print(active)\n",
    "\n"
   ]
  },
  {
   "cell_type": "code",
   "execution_count": null,
   "id": "67a8dc0f",
   "metadata": {},
   "outputs": [],
   "source": [
    "m['InvoiceDate']=m['InvoiceDate'].astype(str)\n",
    "z = m['InvoiceDate'].str.split(' ', expand=True)\n",
    "years = z[0]\n",
    "u = years.str.split('-', expand=True)\n",
    "date = u[0] + '-' +  u[1]\n",
    "#m.insert(loc=1, column='date' , value = date)\n",
    "m.head()"
   ]
  },
  {
   "cell_type": "code",
   "execution_count": null,
   "id": "e3550953",
   "metadata": {},
   "outputs": [],
   "source": [
    "#creating monthly active customers dataframe by counting unique Customer IDs\n",
    "monthly_active = dataframe.groupby('year-month')['Customer ID'].nunique().reset_index()\n",
    "monthly_active.rename(columns={'Customer ID':'Active Customers','year-month':'Month'},inplace=True)\n",
    "monthly_active.drop([monthly_active.index[4]],inplace=True)\n",
    "px.bar(monthly_active,x=\"Month\",y=\"Active Customers\",title='Monthly Active Customers',text_auto=True)"
   ]
  }
 ],
 "metadata": {
  "kernelspec": {
   "display_name": "Python 3 (ipykernel)",
   "language": "python",
   "name": "python3"
  },
  "language_info": {
   "codemirror_mode": {
    "name": "ipython",
    "version": 3
   },
   "file_extension": ".py",
   "mimetype": "text/x-python",
   "name": "python",
   "nbconvert_exporter": "python",
   "pygments_lexer": "ipython3",
   "version": "3.9.11"
  }
 },
 "nbformat": 4,
 "nbformat_minor": 5
}
