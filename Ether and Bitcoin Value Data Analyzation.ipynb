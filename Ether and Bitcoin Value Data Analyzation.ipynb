{
 "cells": [
  {
   "cell_type": "code",
   "execution_count": null,
   "id": "d5d4eadc",
   "metadata": {},
   "outputs": [],
   "source": [
    "j = pd.read_csv('btc-market-price.csv')\n",
    "print(j)"
   ]
  },
  {
   "cell_type": "code",
   "execution_count": null,
   "id": "6d6b7e8a",
   "metadata": {},
   "outputs": [],
   "source": [
    "#Set the names of each column explicitly as (Timestamp and Price ) \n",
    "j.columns =['Timestamp', 'Price']"
   ]
  },
  {
   "cell_type": "code",
   "execution_count": null,
   "id": "10a7f6ae",
   "metadata": {},
   "outputs": [],
   "source": [
    "j.head()"
   ]
  },
  {
   "cell_type": "code",
   "execution_count": null,
   "id": "ac336cc2",
   "metadata": {},
   "outputs": [],
   "source": [
    "#Parse all the Timestamp values as Datetime object \n",
    "j['Timestamp']= pd.to_datetime(j['Timestamp'])\n",
    "j.info()"
   ]
  },
  {
   "cell_type": "code",
   "execution_count": null,
   "id": "abea10b3",
   "metadata": {},
   "outputs": [],
   "source": [
    "#Study the working of set_index function and apply on Timestamp\n",
    "j.set_index(['Timestamp'])"
   ]
  },
  {
   "cell_type": "code",
   "execution_count": null,
   "id": "020b0e96",
   "metadata": {},
   "outputs": [],
   "source": [
    "#Find the price of bitcoin for a date ‘2017-09-29’ \n",
    "j.loc[j['Timestamp']=='2017-09-29']\n",
    " "
   ]
  },
  {
   "cell_type": "code",
   "execution_count": null,
   "id": "bc0137ea",
   "metadata": {},
   "outputs": [],
   "source": [
    "#(1) Study read_csv function and apply on btc_market_price.csv to load again into dataframe altogether by specifying names of columns and index_col. \n",
    "#(2) Load second dataset eth-price.csv by parsing dates and index_col on date \n",
    "#Combine both(1 and 2) data frames into one  \n",
    "#New dataframe should look like this:"
   ]
  },
  {
   "cell_type": "code",
   "execution_count": null,
   "id": "99a17cc1",
   "metadata": {},
   "outputs": [],
   "source": []
  },
  {
   "cell_type": "code",
   "execution_count": null,
   "id": "195a7aa6",
   "metadata": {},
   "outputs": [],
   "source": [
    "bitcoin_df = pd.read_csv('btc-market-price.csv', names=('Timestamp', 'Price') , index_col='Timestamp' , parse_dates= True)\n",
    "print(bitcoin_df)"
   ]
  },
  {
   "cell_type": "code",
   "execution_count": null,
   "id": "7eeeb2dc",
   "metadata": {},
   "outputs": [],
   "source": [
    "ether_df = pd.read_csv('eth-price.csv'  ,index_col = 'Date(UTC)' , parse_dates=True )\n",
    "print(ether_df)"
   ]
  },
  {
   "cell_type": "code",
   "execution_count": null,
   "id": "5da8e79c",
   "metadata": {},
   "outputs": [],
   "source": [
    "#combined_df = bitcoin_df.merge(ether_df[['Value','Timestamp']], on = 'Timestamp', how = 'left')\n",
    "#print(combined_df)\n",
    "# creating new_df based on the index of bitcoin_df's index\n",
    "new_df = pd.DataFrame(index = bitcoin_df.index)\n",
    "# inserting columns into new_df fetching from bitcoin_df and ether_df \n",
    "new_df['Bitcoin_prices'] = bitcoin_df['Price']\n",
    "new_df['Ether_prices'] = ether_df['Value']\n",
    "new_df.head()"
   ]
  },
  {
   "cell_type": "code",
   "execution_count": null,
   "id": "84405ac6",
   "metadata": {},
   "outputs": [],
   "source": [
    "#new_df.isnull().sum()\n",
    "#m.dropna(inplace=True)\n",
    "new_df.plot(kind = 'line' , figsize = (20,10))"
   ]
  }
 ],
 "metadata": {
  "kernelspec": {
   "display_name": "Python 3 (ipykernel)",
   "language": "python",
   "name": "python3"
  },
  "language_info": {
   "codemirror_mode": {
    "name": "ipython",
    "version": 3
   },
   "file_extension": ".py",
   "mimetype": "text/x-python",
   "name": "python",
   "nbconvert_exporter": "python",
   "pygments_lexer": "ipython3",
   "version": "3.9.11"
  }
 },
 "nbformat": 4,
 "nbformat_minor": 5
}
