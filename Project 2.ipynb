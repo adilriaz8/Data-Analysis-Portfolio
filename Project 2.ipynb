{
 "cells": [
  {
   "cell_type": "code",
   "execution_count": null,
   "id": "f1190309",
   "metadata": {},
   "outputs": [],
   "source": [
    "Find if this dataset contains missing values or not.\n",
    "Correct the names of columns if you find something incorrect (like region column actually contains states information)\n",
    "Find correlation between features of this dataset\n",
    "Now let’s visualize the data to analyze the unemployment rate. First take a look at the estimated number of employees according to different regions of India (Use histplot for this visualization)\n",
    "see the unemployment rate according to different regions of India( Use histplot)\n",
    "Analyze the unemployment rate of each Indian state by region( use a sunburst plot) (Output should look like the following image)\n"
   ]
  },
  {
   "cell_type": "code",
   "execution_count": null,
   "id": "96f118ef",
   "metadata": {},
   "outputs": [],
   "source": [
    "d = pd.read_csv('unemployment.csv')\n",
    "print(d)"
   ]
  },
  {
   "cell_type": "code",
   "execution_count": null,
   "id": "1300683d",
   "metadata": {},
   "outputs": [],
   "source": [
    "#Find if this dataset contains missing values or not.\n",
    "#d.isnull().values.any()\n",
    "d.isnull().sum()"
   ]
  },
  {
   "cell_type": "code",
   "execution_count": null,
   "id": "f680b56c",
   "metadata": {},
   "outputs": [],
   "source": [
    "#Correct the names of columns if you find something incorrect (like region column actually contains states information)\n",
    "d.head()\n",
    "#d.rename(columns={\" Frequency\": \"Frequency\"})\n",
    "d.columns = [\"State\", \"Date\",'Frequency' , 'Estimated Unemployment Rate' , 'Estimated Employed' , 'Estimated Labour Participation Rate','Region' , 'longitude' , 'latitude' ]"
   ]
  },
  {
   "cell_type": "code",
   "execution_count": null,
   "id": "50a9d1fd",
   "metadata": {},
   "outputs": [],
   "source": [
    "dataplot=sns.heatmap(d.corr())  \n",
    "plt.show()"
   ]
  },
  {
   "cell_type": "code",
   "execution_count": null,
   "id": "009bce13",
   "metadata": {},
   "outputs": [],
   "source": [
    "d.head()"
   ]
  },
  {
   "cell_type": "code",
   "execution_count": null,
   "id": "5ca9cdcf",
   "metadata": {},
   "outputs": [],
   "source": [
    "#Now let’s visualize the data to analyze the unemployment rate. \n",
    "#First take a look at the estimated number of employees according to different regions of India \n",
    "#(Use histplot for this visualization)\n",
    "columns = ['Estimated Employed' , 'Region']\n",
    "x = pd.DataFrame(d, columns=columns)\n",
    "x.plot(kind='hist')\n",
    "#print(d['State'])"
   ]
  },
  {
   "cell_type": "code",
   "execution_count": null,
   "id": "54809da3",
   "metadata": {},
   "outputs": [],
   "source": [
    "#see the unemployment rate according to different regions of India( Use histplot)\n",
    "#columns = ['Region' , 'Estimated Unemployment Rate']\n",
    "#x = pd.DataFrame(d, columns=columns)\n",
    "#x.plot(kind='hist')\n",
    "sns.histplot(data=d, x=\"Estimated Unemployment Rate\", hue=\"Region\")"
   ]
  },
  {
   "cell_type": "code",
   "execution_count": null,
   "id": "dc492f51",
   "metadata": {},
   "outputs": [],
   "source": [
    "#Analyze the unemployment rate of each Indian state by region( use a sunburst plot) \n",
    "#columns = ['Estimated Unemployment Rate (%)' , 'Region']\n",
    "#x = pd.DataFrame(d, columns=columns)\n",
    "#x.plot(kind='sunburst')\n",
    "import plotly.express as px\n",
    "  \n",
    "fig = px.sunburst(d, path=['Region' , 'State'], values='Estimated Unemployment Rate')\n",
    "fig.show()\n"
   ]
  }
 ],
 "metadata": {
  "kernelspec": {
   "display_name": "Python 3 (ipykernel)",
   "language": "python",
   "name": "python3"
  },
  "language_info": {
   "codemirror_mode": {
    "name": "ipython",
    "version": 3
   },
   "file_extension": ".py",
   "mimetype": "text/x-python",
   "name": "python",
   "nbconvert_exporter": "python",
   "pygments_lexer": "ipython3",
   "version": "3.9.11"
  }
 },
 "nbformat": 4,
 "nbformat_minor": 5
}
