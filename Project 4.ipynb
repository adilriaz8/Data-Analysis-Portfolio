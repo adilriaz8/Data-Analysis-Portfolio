{
 "cells": [
  {
   "cell_type": "code",
   "execution_count": null,
   "id": "a0575b56",
   "metadata": {},
   "outputs": [],
   "source": [
    "'''\n",
    "1.Loaded Data of each month and made data frame using pandas\n",
    "\n",
    "2.Concatenated Dataset to make one Dataset for 2019 sales.\n",
    "\n",
    "3.Treating Null Values and Junk Data.\n",
    "\n",
    "4.Made a Filtered Dataset after preprocessing data\n",
    "\n",
    "5.Analysis and answers to business problems. (visualizations using matplot and seaborn library)\n",
    "'''"
   ]
  },
  {
   "cell_type": "code",
   "execution_count": null,
   "id": "5c28ff71",
   "metadata": {},
   "outputs": [],
   "source": [
    "df1=pd.read_csv(\"Sales_January_2019.csv\")\n",
    "df1[\"month\"]=\"Jan\"\n",
    "df2=pd.read_csv(\"Sales_February_2019.csv\")\n",
    "df2[\"month\"]=\"feb\"\n",
    "df3=pd.read_csv(\"Sales_March_2019.csv\")\n",
    "df3[\"month\"]=\"mar\"\n",
    "df4=pd.read_csv(\"Sales_April_2019.csv\")\n",
    "df4[\"month\"]=\"apr\"\n",
    "df5=pd.read_csv(\"Sales_May_2019.csv\")\n",
    "df5[\"month\"]=\"may\"\n",
    "df6=pd.read_csv(\"Sales_June_2019.csv\")\n",
    "df6[\"month\"]=\"june\"\n",
    "df7=pd.read_csv(\"Sales_July_2019.csv\")\n",
    "df7[\"month\"]=\"july\"\n",
    "df8=pd.read_csv(\"Sales_August_2019.csv\")\n",
    "df8[\"month\"]=\"aug\"\n",
    "df9=pd.read_csv(\"Sales_September_2019.csv\")\n",
    "df9[\"month\"]=\"sep\"\n",
    "df10=pd.read_csv(\"Sales_October_2019.csv\")\n",
    "df10[\"month\"]=\"oct\"\n",
    "df11=pd.read_csv(\"Sales_November_2019.csv\")\n",
    "df11[\"month\"]=\"nov\"\n",
    "df12=pd.read_csv(\"Sales_December_2019.csv\")\n",
    "df12[\"month\"]=\"dec\""
   ]
  },
  {
   "cell_type": "code",
   "execution_count": null,
   "id": "ea2845f7",
   "metadata": {},
   "outputs": [],
   "source": [
    "months =[df1 ,df2 ,df3 ,df4 ,df5 ,df6 ,df7 ,df8, df9 ,df10 ,df11 ,df12]"
   ]
  },
  {
   "cell_type": "code",
   "execution_count": null,
   "id": "e54b5da6",
   "metadata": {},
   "outputs": [],
   "source": [
    "new = pd.concat(months)"
   ]
  },
  {
   "cell_type": "code",
   "execution_count": null,
   "id": "0fe71ad6",
   "metadata": {},
   "outputs": [],
   "source": [
    "new.head()\n",
    "new.shape"
   ]
  },
  {
   "cell_type": "code",
   "execution_count": null,
   "id": "e2f74092",
   "metadata": {},
   "outputs": [],
   "source": [
    "new.isnull().sum()"
   ]
  },
  {
   "cell_type": "code",
   "execution_count": null,
   "id": "0b2ee00e",
   "metadata": {},
   "outputs": [],
   "source": [
    "new.isnull().sum()\n",
    "new.dropna(inplace=True)"
   ]
  },
  {
   "cell_type": "code",
   "execution_count": null,
   "id": "e3b77a72",
   "metadata": {},
   "outputs": [],
   "source": [
    "new.isnull().sum()"
   ]
  },
  {
   "cell_type": "code",
   "execution_count": null,
   "id": "7dd1734d",
   "metadata": {},
   "outputs": [],
   "source": [
    "for i in new1['Quantity Ordered']:\n",
    "    if i == 'Quantity Ordered':\n",
    "        print('true')"
   ]
  },
  {
   "cell_type": "code",
   "execution_count": null,
   "id": "99cc10fb",
   "metadata": {},
   "outputs": [],
   "source": [
    "new.head()"
   ]
  },
  {
   "cell_type": "code",
   "execution_count": null,
   "id": "a08b9c4e",
   "metadata": {},
   "outputs": [],
   "source": [
    "new.drop_duplicates()\n",
    "new.drop_duplicates(inplace = True)"
   ]
  },
  {
   "cell_type": "code",
   "execution_count": null,
   "id": "dd457943",
   "metadata": {},
   "outputs": [],
   "source": [
    "new1 = new[(new['Quantity Ordered'] == 'Quantity Ordered') & (new['Order ID'] == 'Order ID') & (new['Product'] == 'Product') \n",
    "& (new['Price Each'] == 'Price Each') & (new['Order Date'] == 'Order Date') & (new['Purchase Address'] == 'Purchase Address') ]\n",
    "print(new1)\n"
   ]
  },
  {
   "cell_type": "code",
   "execution_count": null,
   "id": "74d58674",
   "metadata": {},
   "outputs": [],
   "source": [
    "new.drop(new[(new['Order ID'] == 'Order ID') & (new['Product'] == 'Product') & (new['Quantity Ordered'] == 'Quantity Ordered') & (new['Price Each'] == 'Price Each') & (new['Order Date'] == 'Order Date') & (new['Purchase Address'] == 'Purchase Address') ].index, inplace = True)\n"
   ]
  },
  {
   "cell_type": "code",
   "execution_count": null,
   "id": "bf1d55f5",
   "metadata": {},
   "outputs": [],
   "source": [
    "for i in new['Order ID']:\n",
    "    if i == 'Order ID':\n",
    "        print('true')\n",
    "    else:\n",
    "        print('none')"
   ]
  },
  {
   "cell_type": "code",
   "execution_count": null,
   "id": "72ae25c4",
   "metadata": {},
   "outputs": [],
   "source": [
    "new['Price Each'].dtypes\n",
    "new.info()"
   ]
  },
  {
   "cell_type": "code",
   "execution_count": null,
   "id": "48705e05",
   "metadata": {},
   "outputs": [],
   "source": [
    "new[\"Price Each\"] = pd.to_numeric(new[\"Price Each\"])\n",
    "new[\"Quantity Ordered\"] = pd.to_numeric(new[\"Quantity Ordered\"])\n",
    "# changing the type of column to numeric"
   ]
  },
  {
   "cell_type": "code",
   "execution_count": null,
   "id": "649d8b18",
   "metadata": {},
   "outputs": [],
   "source": [
    "sales = new['Price Each'] *  new['Quantity Ordered']\n",
    "new.insert(loc=1, column='sales' , value = sales)\n",
    "new"
   ]
  },
  {
   "cell_type": "code",
   "execution_count": null,
   "id": "cb0b6f61",
   "metadata": {},
   "outputs": [],
   "source": [
    "#1.What was the best month for sales? How much was earned that month?\n",
    "x = new.groupby(['month'])['sales'].sum()\n",
    "x.plot(kind = 'bar')\n"
   ]
  },
  {
   "cell_type": "code",
   "execution_count": null,
   "id": "b6aae862",
   "metadata": {},
   "outputs": [],
   "source": [
    "#2.Which city had the highest number of sales?\n",
    "w = new['Purchase Address'].str.split(',', expand=True)\n",
    "cities = w[1]\n",
    "#new.insert(loc=1, column='cities' , value = cities)\n",
    "#new.head()\n",
    "x = new.groupby(['cities'])['sales'].sum()\n",
    "x.plot(kind = 'bar')"
   ]
  },
  {
   "cell_type": "code",
   "execution_count": null,
   "id": "2f521e6d",
   "metadata": {},
   "outputs": [],
   "source": [
    "#3.Recommend the most appropriate time to display advertising to maximize the likelihood of customers buying the products?\n",
    "z = new['Order Date'].str.split(' ', expand=True)\n",
    "time = z[1]\n",
    "#new.insert(loc=1, column='time' , value = time)\n",
    "x = new.groupby(['time'])['sales'].sum()\n",
    "#print(x)\n",
    "x.sort_values(ascending=False).head(5)"
   ]
  },
  {
   "cell_type": "code",
   "execution_count": null,
   "id": "f5f97772",
   "metadata": {},
   "outputs": [],
   "source": [
    "#4.What products sold the most? Why do you think it sold the most?\n",
    "#x = new.groupby(['Product'])['Quantity Ordered'].sum()\n",
    "#x.sort_values(ascending=False).head(1)\n",
    "columns = ['Product', 'Price Each']\n",
    "g = pd.DataFrame(new, columns=columns)\n",
    "y = g.groupby(['Price Each'])['Product']\n",
    "#y = g.sort_values(by = ['Price Each'] , ascending=True)\n",
    "\n",
    "#I think it sold the most because it was selling alot in december which is the best month for sales"
   ]
  }
 ],
 "metadata": {
  "kernelspec": {
   "display_name": "Python 3 (ipykernel)",
   "language": "python",
   "name": "python3"
  },
  "language_info": {
   "codemirror_mode": {
    "name": "ipython",
    "version": 3
   },
   "file_extension": ".py",
   "mimetype": "text/x-python",
   "name": "python",
   "nbconvert_exporter": "python",
   "pygments_lexer": "ipython3",
   "version": "3.9.11"
  }
 },
 "nbformat": 4,
 "nbformat_minor": 5
}
