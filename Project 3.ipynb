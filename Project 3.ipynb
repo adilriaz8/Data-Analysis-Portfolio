{
 "cells": [
  {
   "cell_type": "code",
   "execution_count": null,
   "id": "602a78df",
   "metadata": {},
   "outputs": [],
   "source": [
    "x = pd.read_csv('country_vaccinations.csv')\n",
    "print(x)"
   ]
  },
  {
   "cell_type": "code",
   "execution_count": null,
   "id": "59ef3c87",
   "metadata": {},
   "outputs": [],
   "source": [
    "#Analyze how many vaccines each country is using to fight covid-19. Use dataset of covid-19 vaccines analysis from Kaggle.\n",
    "#columns = ['country' , 'total_vaccinations']\n",
    "#y = pd.DataFrame(x, columns=columns)\n",
    "#print(y)\n",
    "\n",
    "\n",
    "y.groupby([\"country\"]).max().sort_values([\"total_vaccinations\"], ascending=False).rename(columns={\"total_vaccinations\" : \"Sum of total_vaccinations\"}).reset_index()"
   ]
  },
  {
   "cell_type": "code",
   "execution_count": null,
   "id": "43f027c2",
   "metadata": {},
   "outputs": [],
   "source": [
    "#pd.to_datetime(x.date)\n",
    "x.country.value_counts()"
   ]
  },
  {
   "cell_type": "code",
   "execution_count": null,
   "id": "e28cad42",
   "metadata": {},
   "outputs": [],
   "source": [
    "#Analyze the vaccines taken by countries. Output may look like this:"
   ]
  },
  {
   "cell_type": "code",
   "execution_count": null,
   "id": "7e361baf",
   "metadata": {},
   "outputs": [],
   "source": [
    "#The United Kingdom is made up of England, Scotland, Wales, and Northern Ireland. But in the above data, \n",
    "#these countries are mentioned separately with the same values as in the United Kingdom. So this may be an error \n",
    "#while recording this data. Fix this error: Output might be the following:\n",
    "x = x.drop(x[(x.country == 'England') | (x.country == 'Scotland') | (x.country == 'Wales') | (x.country == 'Northern Ireland') ].index)\n",
    "#condition = ((x['country'] == 'England')   (x['country'] == 'Scotland') & (x['country'] == 'Wales') & (x['country'] == 'Northern Ireland'))\n",
    "'''\n",
    "if 'Scotland' in x.values :\n",
    "    \n",
    "    print(\"\\nThis value exists in Dataframe\")\n",
    " \n",
    "else :\n",
    "    print(\"\\nThis value does not exists in Dataframe\")\n",
    "'''\n",
    "# condition to check if the countries we removed were actually removed to show user\n",
    "#display the data without these countries\n",
    "x['country'].value_counts()"
   ]
  },
  {
   "cell_type": "code",
   "execution_count": null,
   "id": "286d50e6",
   "metadata": {},
   "outputs": [],
   "source": [
    "#Explore the vaccines available in this dataset. Output can be:\n",
    "x['vaccines'].value_counts()"
   ]
  },
  {
   "cell_type": "code",
   "execution_count": null,
   "id": "207d5bc4",
   "metadata": {},
   "outputs": [],
   "source": [
    "#Create a new DataFrame by only selecting the vaccine and the country columns to explore which vaccine is taken by which \n",
    "#country:\n",
    "columns = ['country' , 'vaccines']\n",
    "g = pd.DataFrame(x, columns=columns)\n",
    "print(g)\n"
   ]
  },
  {
   "cell_type": "code",
   "execution_count": null,
   "id": "8b6e50ff",
   "metadata": {},
   "outputs": [],
   "source": [
    "#See how many countries are taking each of the vaccines mentioned in this data. Output might look like this:\n",
    "#columns = ['vaccines' , 'country']\n",
    "#g = pd.DataFrame(x, columns=columns)\n",
    "#print(g)\n",
    "'''\n",
    "countries = []\n",
    "for i in x.vaccines.unique():\n",
    "    print(i, \"<<:{\")\n",
    "    for j in x.country.unique():\n",
    "        #if x.vaccines.unique() == i:\n",
    "        countries += j\n",
    "    print(j,\"}\")\n",
    "    #countries = []\n",
    "'''\n",
    "#dict[\"1\"] = \"hello\"\n",
    "#dict[\"1\"] = \"hi\"\n",
    "dict_ = {}\n",
    "\n",
    "for i in x.vaccines.unique():\n",
    "    countries = []\n",
    "    res = []\n",
    "    for j in x[x[\"vaccines\"]==i].index:# it returns the range of all row numbers where vaccine is the unique specific vaccine\n",
    "        #print(j)\n",
    "        #print(x[\"country\"][j])# accessing dataframe using two dimensions returns country names for only j specific rows \n",
    "        #print(x[j])\n",
    "        countries.append(x[\"country\"][j])\n",
    "    for k in countries:\n",
    "        #print(k)\n",
    "        if k not in res:\n",
    "            res.append(k)\n",
    "        #res.append(k[\"country\"] for k in countries if k not in res) \n",
    "    #print(res)\n",
    "        #res.append(x[\"country\"][j] for x[\"country\"][j] in countries if x[\"country\"][j] not in res)\n",
    "  \n",
    "    #dict_[i] = x[\"country\"][j]\n",
    "    #print(countries)\n",
    "    #dict_[i] = countries\n",
    "    dict_[i] = res\n",
    "    #break\n",
    "    #dict_[i] = [x[\"country\"][j] for j in x[x[\"vaccines\"]==i].index]\n",
    "print(dict_)\n",
    "#for key, value in dict_.items():\n",
    "    #dict_[key] = set(value)\n",
    "#print(dict_)\n"
   ]
  }
 ],
 "metadata": {
  "kernelspec": {
   "display_name": "Python 3 (ipykernel)",
   "language": "python",
   "name": "python3"
  },
  "language_info": {
   "codemirror_mode": {
    "name": "ipython",
    "version": 3
   },
   "file_extension": ".py",
   "mimetype": "text/x-python",
   "name": "python",
   "nbconvert_exporter": "python",
   "pygments_lexer": "ipython3",
   "version": "3.9.11"
  }
 },
 "nbformat": 4,
 "nbformat_minor": 5
}
